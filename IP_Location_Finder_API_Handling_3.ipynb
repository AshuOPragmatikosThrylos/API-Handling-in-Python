{
 "cells": [
  {
   "cell_type": "code",
   "execution_count": 2,
   "metadata": {},
   "outputs": [
    {
     "name": "stdout",
     "output_type": "stream",
     "text": [
      "Enter the IP Address: 103.219.212.203\n",
      "Continent:  Asia\n",
      "Country:  India\n",
      "Region:  Rajasthan\n",
      "City:  Jaipur\n",
      "Zipcode:  302019\n",
      "Latitude:  26.890100479125977\n",
      "Longitude:  75.76909637451172\n"
     ]
    }
   ],
   "source": [
    "# 103.219.212.203\n",
    "import requests as rq\n",
    "ip_address = input(\"Enter the IP Address: \")\n",
    "r = rq.get(\"http://api.ipstack.com/\"+ip_address+\"?access_key=bc26d02df64334f97c0885314be0fd0f\")\n",
    "j = r.json()\n",
    "continent_name = j['continent_name']\n",
    "country_name = j['country_name']\n",
    "region_name = j['region_name']\n",
    "city = j['city']\n",
    "zip = j['zip']\n",
    "latitude = j['latitude']\n",
    "longitude = j['longitude']\n",
    "\n",
    "print(\"Continent: \",continent_name)\n",
    "print(\"Country: \",country_name)\n",
    "print(\"Region: \",region_name)\n",
    "print(\"City: \",city)\n",
    "print(\"Zipcode: \",zip)\n",
    "print(\"Latitude: \",latitude)\n",
    "print(\"Longitude: \",longitude)\n"
   ]
  },
  {
   "cell_type": "code",
   "execution_count": null,
   "metadata": {},
   "outputs": [],
   "source": []
  }
 ],
 "metadata": {
  "kernelspec": {
   "display_name": "Python 3",
   "language": "python",
   "name": "python3"
  },
  "language_info": {
   "codemirror_mode": {
    "name": "ipython",
    "version": 3
   },
   "file_extension": ".py",
   "mimetype": "text/x-python",
   "name": "python",
   "nbconvert_exporter": "python",
   "pygments_lexer": "ipython3",
   "version": "3.7.4"
  }
 },
 "nbformat": 4,
 "nbformat_minor": 2
}
