{
 "cells": [
  {
   "cell_type": "code",
   "execution_count": 2,
   "metadata": {},
   "outputs": [
    {
     "name": "stdout",
     "output_type": "stream",
     "text": [
      "Enter city name: Guwahati\n",
      "City:  Guwahati\n",
      "Longitude: 91.75\n",
      "Latitude: 26.19 \n",
      "Weather:  haze\n",
      "Minimum Temperature: 299.15\n",
      "Maximum Temperature: 299.15\n",
      "Pressure: 1009\n",
      "Humidity: 57\n",
      "Visibility:  3000\n",
      "Wind Speed:  1.5\n"
     ]
    }
   ],
   "source": [
    "import requests as req\n",
    "\n",
    "city = input(\"Enter city name: \")\n",
    "r = req.get(\"https://api.openweathermap.org/data/2.5/weather?appid=68fd0bdb69ad0e203d7b5f4cb4cccb56&q=\"+city)\n",
    "j = r.json()\n",
    "\n",
    "city = j['name']\n",
    "print(\"City: \",city)\n",
    "\n",
    "longitude = j['coord']['lon']\n",
    "latitude = j['coord']['lat']\n",
    "print(\"Longitude: {}\\nLatitude: {} \".format(longitude,latitude))\n",
    "\n",
    "weather = j['weather'][0]['description']\n",
    "print(\"Weather: \",weather)\n",
    "\n",
    "temp_min = j['main']['temp_min']\n",
    "temp_max = j['main']['temp_max']\n",
    "pressure = j['main']['pressure']\n",
    "humidity = j['main']['humidity']\n",
    "print(\"Minimum Temperature: {}\\nMaximum Temperature: {}\\nPressure: {}\\nHumidity: {}\".format(temp_min,temp_max,pressure,humidity))\n",
    "\n",
    "visibility = j['visibility']\n",
    "print(\"Visibility: \",visibility)\n",
    "\n",
    "wind_speed = j['wind']['speed']\n",
    "print(\"Wind Speed: \",wind_speed)"
   ]
  }
 ],
 "metadata": {
  "kernelspec": {
   "display_name": "Python 3",
   "language": "python",
   "name": "python3"
  },
  "language_info": {
   "codemirror_mode": {
    "name": "ipython",
    "version": 3
   },
   "file_extension": ".py",
   "mimetype": "text/x-python",
   "name": "python",
   "nbconvert_exporter": "python",
   "pygments_lexer": "ipython3",
   "version": "3.7.6"
  }
 },
 "nbformat": 4,
 "nbformat_minor": 4
}
