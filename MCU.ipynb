{
 "cells": [
  {
   "cell_type": "code",
   "execution_count": 1,
   "metadata": {},
   "outputs": [
    {
     "name": "stdout",
     "output_type": "stream",
     "text": [
      "Required data successfully fetched!\n"
     ]
    }
   ],
   "source": [
    "import requests as rq\n",
    "import bs4\n",
    "\n",
    "r = rq.get(\"https://en.wikipedia.org/wiki/List_of_Marvel_Cinematic_Universe_films\")\n",
    "soup = bs4.BeautifulSoup(r.text,'html.parser')\n",
    "\n",
    "movies = soup.findAll('th',attrs = {'scope':'row','style':'text-align:left'})\n",
    "release_dates = soup.findAll('span',attrs = {'data-sort-value':True,'style':'white-space:nowrap'})\n",
    "\n",
    "movies = list(movies)[0:23]\n",
    "release_dates = list(release_dates)[0:23]\n",
    "for i in range(len(movies)):\n",
    "    try:\n",
    "        with open(\"MCU_movie_dates.txt\",'a') as f:\n",
    "            f.write(\"(\"+movies[i].get_text().strip('\\n')+ \", \" +release_dates[i].get_text() +\")\\n\")\n",
    "            success = 1\n",
    "    except:\n",
    "        success = 0\n",
    "\n",
    "if success == 1 :\n",
    "    print(\"Required data successfully fetched!\")\n",
    "else:\n",
    "    print(\"Oops!Something went wrong\") "
   ]
  },
  {
   "cell_type": "code",
   "execution_count": 2,
   "metadata": {},
   "outputs": [],
   "source": [
    "import requests as rq\n",
    "import bs4\n",
    "\n",
    "with open (\"C:\\\\Users\\\\Ashutosh\\\\Desktop\\\\LCO Winter Bootcamp\\\\day11\\\\MCU_movie_dates.txt\",'r') as f:\n",
    "        data = f.read().split('\\n')\n",
    "        \n",
    "        for items in data:\n",
    "            movie_name = items.split(', ')[0].lstrip('(')\n",
    "            r = rq.get(\"http://www.omdbapi.com/?i=tt3896198&apikey=2370c1b&t=\"+movie_name)\n",
    "            j = r.json()\n",
    "            if j['Response']!='False':\n",
    "                rating = j['imdbRating']\n",
    "            else:\n",
    "                rating = '-'\n",
    "            with open('MCU_IMDB_rating.txt','a') as f:\n",
    "                f.write(movie_name+\"----->\"+rating+\"\\n\")"
   ]
  },
  {
   "cell_type": "code",
   "execution_count": null,
   "metadata": {},
   "outputs": [],
   "source": []
  }
 ],
 "metadata": {
  "kernelspec": {
   "display_name": "Python 3",
   "language": "python",
   "name": "python3"
  },
  "language_info": {
   "codemirror_mode": {
    "name": "ipython",
    "version": 3
   },
   "file_extension": ".py",
   "mimetype": "text/x-python",
   "name": "python",
   "nbconvert_exporter": "python",
   "pygments_lexer": "ipython3",
   "version": "3.7.6"
  }
 },
 "nbformat": 4,
 "nbformat_minor": 4
}
